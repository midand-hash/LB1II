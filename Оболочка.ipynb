{
 "cells": [
  {
   "cell_type": "code",
   "execution_count": 2,
   "id": "df89a847-ab3b-4bbb-bf68-b2520106b379",
   "metadata": {},
   "outputs": [
    {
     "name": "stdout",
     "output_type": "stream",
     "text": [
      "C:\\Users\\AND\\AppData\\Local\\Programs\\Python\\Python39\\python.exe\n",
      "C:\\Users\\AND\\AppData\\Local\\Microsoft\\WindowsApps\\python.exe\n"
     ]
    }
   ],
   "source": [
    "!where python"
   ]
  },
  {
   "cell_type": "code",
   "execution_count": 3,
   "id": "35eafd78-1090-4379-ba5b-c7c520c78841",
   "metadata": {},
   "outputs": [
    {
     "name": "stdout",
     "output_type": "stream",
     "text": [
      " ’®¬ ў гбва®©бвўҐ C Ё¬ҐҐв ¬ҐвЄг Windows-SSD\n",
      " ‘ҐаЁ©­л© ­®¬Ґа в®¬ : 32D4-2BDB\n",
      "\n",
      " ‘®¤Ґа¦Ё¬®Ґ Ї ЇЄЁ C:\\Users\\AND\\Untitled Folder\n",
      "\n",
      "05.03.2025  14:21    <DIR>          .\n",
      "04.03.2025  23:31    <DIR>          ..\n",
      "05.03.2025  14:21    <DIR>          .ipynb_checkpoints\n",
      "05.03.2025  14:21    <DIR>          test_folder\n",
      "05.03.2025  14:10               616 Untitled.ipynb\n",
      "04.03.2025  23:45            40я400 ѓа дЁЄ.ipynb\n",
      "05.03.2025  14:08             1я766 ‡ ¤ ­Ёп2.ipynb\n",
      "05.03.2025  14:05             1я866 ‡ ¤ з 1.ipynb\n",
      "05.03.2025  14:19             1я236 Њ ЈЁзҐбЄЁҐ Є®¬ ­¤л2.ipynb\n",
      "04.03.2025  23:31             1я107 ЏаЁ¬Ґа2.ipynb\n",
      "               6 д ©«®ў         46я991 Ў ©в\n",
      "               4 Ї Ї®Є  54я609я817я600 Ў ©в бў®Ў®¤­®\n",
      "C:\\Users\\AND\\AppData\\Local\\Programs\\Python\\Python39\\python.exe\n",
      "C:\\Users\\AND\\AppData\\Local\\Microsoft\\WindowsApps\\python.exe\n"
     ]
    }
   ],
   "source": [
    "!mkdir test_folder\n",
    "!dir\n",
    "!where python\n",
    "!rmdir test_folder"
   ]
  },
  {
   "cell_type": "code",
   "execution_count": null,
   "id": "7ba23ed9-1a06-4134-b432-1de70586df79",
   "metadata": {},
   "outputs": [],
   "source": []
  }
 ],
 "metadata": {
  "kernelspec": {
   "display_name": "Python 3 (ipykernel)",
   "language": "python",
   "name": "python3"
  },
  "language_info": {
   "codemirror_mode": {
    "name": "ipython",
    "version": 3
   },
   "file_extension": ".py",
   "mimetype": "text/x-python",
   "name": "python",
   "nbconvert_exporter": "python",
   "pygments_lexer": "ipython3",
   "version": "3.9.1"
  }
 },
 "nbformat": 4,
 "nbformat_minor": 5
}
