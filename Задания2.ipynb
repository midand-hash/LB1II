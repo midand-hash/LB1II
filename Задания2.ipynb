{
 "cells": [
  {
   "cell_type": "code",
   "execution_count": 2,
   "id": "4bbfc4bf-00fe-4bba-894d-ee43abb9567d",
   "metadata": {},
   "outputs": [
    {
     "name": "stdout",
     "output_type": "stream",
     "text": [
      "Содержимое файла:\n",
      " Первая строка\n",
      "Вторая строка\n",
      "\n",
      "Файл существует: True\n",
      "Файл удален.\n"
     ]
    }
   ],
   "source": [
    "import os\n",
    "# Создание и запись в файл\n",
    "with open(\"example.txt\", \"w\") as f:\n",
    "    f.write(\"Первая строка\\n\")\n",
    "    f.write(\"Вторая строка\\n\")\n",
    "# Чтение файла\n",
    "with open(\"example.txt\", \"r\") as f:\n",
    "    content = f.read()\n",
    "    print(\"Содержимое файла:\\n\", content)\n",
    "# Проверка существования файла\n",
    "print(\"Файл существует:\", os.path.exists(\"example.txt\"))\n",
    "# Удаление файла\n",
    "os.remove(\"example.txt\")\n",
    "print(\"Файл удален.\")"
   ]
  },
  {
   "cell_type": "code",
   "execution_count": null,
   "id": "7942138a-a572-4dec-940c-d8202c130fbf",
   "metadata": {},
   "outputs": [],
   "source": []
  }
 ],
 "metadata": {
  "kernelspec": {
   "display_name": "Python 3 (ipykernel)",
   "language": "python",
   "name": "python3"
  },
  "language_info": {
   "codemirror_mode": {
    "name": "ipython",
    "version": 3
   },
   "file_extension": ".py",
   "mimetype": "text/x-python",
   "name": "python",
   "nbconvert_exporter": "python",
   "pygments_lexer": "ipython3",
   "version": "3.9.1"
  }
 },
 "nbformat": 4,
 "nbformat_minor": 5
}
