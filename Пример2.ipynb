{
 "cells": [
  {
   "cell_type": "markdown",
   "id": "26488fd9-44fe-4bc9-badf-88f15a32ad84",
   "metadata": {},
   "source": [
    "# Заголовок первоко уровня\n",
    "## Заголовок второго уровня\n",
    "\n",
    "**Полужирный текст**, *курсив*, `код в строке`\n",
    "\n",
    "Список:\n",
    " - Пункт 1\n",
    " - Пункт 2\n",
    " - Пункт 3\n",
    "\n",
    "Формула $y = mx + b$"
   ]
  },
  {
   "cell_type": "code",
   "execution_count": null,
   "id": "e73b26a6-d6cd-445c-a21b-dd9d2dd6e50e",
   "metadata": {},
   "outputs": [],
   "source": []
  }
 ],
 "metadata": {
  "kernelspec": {
   "display_name": "Python 3 (ipykernel)",
   "language": "python",
   "name": "python3"
  },
  "language_info": {
   "codemirror_mode": {
    "name": "ipython",
    "version": 3
   },
   "file_extension": ".py",
   "mimetype": "text/x-python",
   "name": "python",
   "nbconvert_exporter": "python",
   "pygments_lexer": "ipython3",
   "version": "3.9.1"
  }
 },
 "nbformat": 4,
 "nbformat_minor": 5
}
