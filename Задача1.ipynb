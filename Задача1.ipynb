{
 "cells": [
  {
   "cell_type": "markdown",
   "id": "45b4d47a-c6e1-4c12-a8b1-686d0ec2419c",
   "metadata": {},
   "source": [
    "# \"Практическое задание №1\"\n",
    "**Жирный текст** *Курсив*\n",
    "\n",
    "Нумерованый список:\n",
    " 1. Один\n",
    " 2. Два\n",
    " 3. Три\n",
    "\n",
    "Спиcок:\n",
    " - первый\n",
    " - второй\n",
    " - третий\n",
    "\n",
    "Формула $e^i = cos(0) +isin(0)$\n",
    "\n",
    "![Мид](https://mimigram.ru/wp-content/uploads/2020/07/foto-kak-tehnologia.jpg)"
   ]
  },
  {
   "cell_type": "code",
   "execution_count": 1,
   "id": "f5cae4c8-ef76-4661-8db7-e3ac6528ee76",
   "metadata": {},
   "outputs": [
    {
     "name": "stdin",
     "output_type": "stream",
     "text": [
      "Введите ваше имя: Андемир\n"
     ]
    },
    {
     "name": "stdout",
     "output_type": "stream",
     "text": [
      "Привет, Андемир! Добро пожаловать в Jupyter\n"
     ]
    }
   ],
   "source": [
    "name = input(\"Введите ваше имя:\")\n",
    "print(\"Привет, {}! Добро пожаловать в Jupyter\".format(name))"
   ]
  },
  {
   "cell_type": "code",
   "execution_count": null,
   "id": "1b109174-4e06-47a3-89cf-7bed8093c62e",
   "metadata": {},
   "outputs": [],
   "source": []
  }
 ],
 "metadata": {
  "kernelspec": {
   "display_name": "Python 3 (ipykernel)",
   "language": "python",
   "name": "python3"
  },
  "language_info": {
   "codemirror_mode": {
    "name": "ipython",
    "version": 3
   },
   "file_extension": ".py",
   "mimetype": "text/x-python",
   "name": "python",
   "nbconvert_exporter": "python",
   "pygments_lexer": "ipython3",
   "version": "3.9.1"
  }
 },
 "nbformat": 4,
 "nbformat_minor": 5
}
