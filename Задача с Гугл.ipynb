{
  "nbformat": 4,
  "nbformat_minor": 0,
  "metadata": {
    "colab": {
      "provenance": []
    },
    "kernelspec": {
      "name": "python3",
      "display_name": "Python 3"
    },
    "language_info": {
      "name": "python"
    }
  },
  "cells": [
    {
      "cell_type": "code",
      "execution_count": 1,
      "metadata": {
        "colab": {
          "base_uri": "https://localhost:8080/"
        },
        "id": "S7IlsstQB3KS",
        "outputId": "78400785-e88d-46e2-a8ba-8c32e0db37cd"
      },
      "outputs": [
        {
          "output_type": "stream",
          "name": "stdout",
          "text": [
            "Mounted at /content/drive\n",
            " 1689153772798.jpg   1689153772926.jpg\t 1689153773022.jpg   1689153773112.jpg\t каталог.gdoc\n",
            " 1689153772832.jpg   1689153772953.jpg\t 1689153773044.jpg   1689153773135.jpg\n",
            " 1689153772869.jpg   1689153772977.jpg\t 1689153773066.jpg   1696262512608.png\n",
            " 1689153772903.jpg   1689153772999.jpg\t 1689153773089.jpg  'Colab Notebooks'\n",
            "Файл '/content/drive/MyDrive/my_text_file.txt' успешно создан и записан в Google Drive.\n",
            "Содержимое файла:\n",
            "Это первая строка.\n",
            "Это вторая строка.\n",
            "Это третья строка.\n",
            "\n"
          ]
        }
      ],
      "source": [
        "from google.colab import drive\n",
        "drive.mount('/content/drive')\n",
        "\n",
        "!ls /content/drive/MyDrive\n",
        "\n",
        "filename = \"/content/drive/MyDrive/my_text_file.txt\"  # Путь к файлу в Google Drive\n",
        "\n",
        "try:\n",
        "    with open(filename, \"w\", encoding=\"utf-8\") as file:\n",
        "        file.write(\"Это первая строка.\\n\")\n",
        "        file.write(\"Это вторая строка.\\n\")\n",
        "        file.write(\"Это третья строка.\\n\")\n",
        "    print(f\"Файл '{filename}' успешно создан и записан в Google Drive.\")\n",
        "except Exception as e:\n",
        "    print(f\"Произошла ошибка при записи файла: {e}\")\n",
        "\n",
        "\n",
        "filename = \"/content/drive/MyDrive/my_text_file.txt\"\n",
        "\n",
        "try:\n",
        "    with open(filename, \"r\", encoding=\"utf-8\") as file:\n",
        "        content = file.read()\n",
        "        print(\"Содержимое файла:\")\n",
        "        print(content)\n",
        "except FileNotFoundError:\n",
        "    print(f\"Файл '{filename}' не найден.\")\n",
        "except Exception as e:\n",
        "    print(f\"Произошла ошибка при чтении файла: {e}\")"
      ]
    }
  ]
}